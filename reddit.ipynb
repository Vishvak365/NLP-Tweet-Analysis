{
 "metadata": {
  "language_info": {
   "codemirror_mode": {
    "name": "ipython",
    "version": 3
   },
   "file_extension": ".py",
   "mimetype": "text/x-python",
   "name": "python",
   "nbconvert_exporter": "python",
   "pygments_lexer": "ipython3",
   "version": "3.8.5"
  },
  "orig_nbformat": 2,
  "kernelspec": {
   "name": "python385jvsc74a57bd0919eb0904b72c37e8d6c7e3b2f7b6f162c89cafcc297fba09b2d10c79c52f5eb",
   "display_name": "Python 3.8.5 64-bit ('base': conda)"
  }
 },
 "nbformat": 4,
 "nbformat_minor": 2,
 "cells": [
  {
   "cell_type": "code",
   "execution_count": 3,
   "metadata": {},
   "outputs": [],
   "source": [
    "import praw"
   ]
  },
  {
   "cell_type": "code",
   "execution_count": 58,
   "metadata": {},
   "outputs": [],
   "source": [
    "import keras\n",
    "import tensorflow as tf\n",
    "model = keras.models.load_model(\"ltsm_model_5_epoch_better.tf\")"
   ]
  },
  {
   "cell_type": "code",
   "execution_count": 5,
   "metadata": {},
   "outputs": [
    {
     "output_type": "stream",
     "name": "stdout",
     "text": [
      "True\n"
     ]
    }
   ],
   "source": [
    "reddit = praw.Reddit(client_id ='xF2jqo3z7q9uhA',\n",
    "                     client_secret ='jQrcUTbWclz5KO9aV1_0Ee7CPARALg',\n",
    "                     user_agent ='my user agent')\n",
    "print(reddit.read_only)"
   ]
  },
  {
   "cell_type": "code",
   "execution_count": 46,
   "metadata": {},
   "outputs": [],
   "source": [
    "subreddit = \"apple\"\n",
    "timeframe = [\"hour\", \"week\", \"day\", \"all\", \"month\", \"year\"]"
   ]
  },
  {
   "cell_type": "code",
   "execution_count": 74,
   "metadata": {},
   "outputs": [],
   "source": [
    "x = reddit.subreddit(subreddit).top(timeframe[5],limit=1)"
   ]
  },
  {
   "cell_type": "code",
   "execution_count": 75,
   "metadata": {
    "tags": []
   },
   "outputs": [],
   "source": [
    "comments = []\n",
    "for f in x:\n",
    "    for comment in f.comments:\n",
    "        try:\n",
    "            comments.append(comment.body)\n",
    "        except:\n",
    "            None"
   ]
  },
  {
   "cell_type": "code",
   "execution_count": 83,
   "metadata": {},
   "outputs": [],
   "source": [
    "preds = []\n",
    "with tf.device('CPU:0'):\n",
    "    preds = model.predict(comments)"
   ]
  },
  {
   "cell_type": "code",
   "execution_count": 85,
   "metadata": {},
   "outputs": [
    {
     "output_type": "stream",
     "name": "stdout",
     "text": [
      "[0.27750152] \"There's plenty of chargers in the world\"\n\n\"We're including a USB C to Lightning cable in the box, so it doesn't work with your existing chargers\"\n[0.64569765] Cord is lightning too usb c, a charging brick I would argue most people don't have.\n[0.03307647] Serious question...since the phone still has a lightning port, could we not just ignore the new cable, and use our existing iPad / iPhone charger blocks?\n[0.08364522] This would make more sense if they didn't also change the cable that comes in the box.. \n\nI'm sure people upgrading iPhones can just use their old adapter and cable to charge... but then it's also just a waste of a cable. I'm certain that while there's billions of adapters in the wild already...a very very very small amount are USB-C which would leave a lot of people needing to buy an adapter anyway.\n[0.66599405] Anker gang.\n[0.10727196] I should be able to get them for free if I ask for it. If not, then they're just doing it for the money.\n\n**alright I know thats typical apple, damn**\n[0.5023267] I think the issue is that the box comes with a USB-C cable. Yes, there are 2 billion power adapters out there, but an overwhelming majority are USB-A cables. Plenty of people are going to get this phone and won’t be able to change it lol\n[0.08974718] Why didn’t they go for usb c in their pro lineup like they did with the iPad Air?\n[0.31575292] So less materials and less shipping costs.  Same price.\n\nApple, so visionary.\n[0.6233008] Android users have free reign to shit on apple for this tbh\n[0.8169506] Does it even come with a phone?\n[0.43773353] [deleted]\n[0.38335845] Every phone and tablet manufactured in 2020 should come with USB-C ports as standard.   Enough of this proprietary bullshit.  Make it all universal.\n[-0.00104214] >\tThis move will have environmental benefits but the company will draw criticism for penny-pinching customers.\n\nthis is effing awful\n[0.4594886] I started supporting this if the cable in the box was a USB-A cable, but it's USB-C...what the fuck, those are even less common..\n[0.8949883] I actually laughed because of their explanation. It won’t decrease their carbon footprint when I need to buy a charger and headphones as a first time apple user.\n[0.05477263] So stupid doing it on the first transition to a usb-c to lightning charging cable. *Nobody* has a USB-C brick.\n[0.05678327] If this was for environmental reasons, I should be able to go to an Apple Store and receive one for free with proof of purchase of the iPhone. But obviously that's not going to happen because it's not for environmental reasons and anyone who believes that is an idiot.\n[0.43773353] [deleted]\n[0.8898095] Everyone will copy this in a year.\n[0.55985653] The amount of turd polishing in their video was cringe-worthy.\n[0.19132589] What do yall mean for the sake of the enviroment?! They decided that just because they can. Just because yall keep buying no matter what.\n[0.35561243] They are right that I have a load of bricks at home.\n\nBut all of them are USB-A, not USB-C\n[0.14870727] I’ve never even seen a USB-C brick\n[0.53551066] It’s important to note that because of EU regulations, earbuds are still in the box in Europe\n[0.09466041] I’m actually pretty frustrated by the lack of free EarPods.\n[0.0886452] a $1k phone and it doesn't even come with a fucking charger?\n[0.3394198] Lol why a usb c to lightning port. It would’ve made more sense if it was usb a to lightning port\n[0.54070127] Does it come with the cable at least?\n[0.91408503] absolute jokers lol, they just made those 2 billion charger plugs obsolete by changing to usb-c and now 99% of people who buy an iphone will have to buy a new plug seperately loll\n[0.7327227] Apple is the world's best/most accepted scam\n[0.05032373] So they are not including them with the iPhone, to save on the size of the phone box, but are still selling them separately... in their own boxes?\n[0.0778193] There will be more waste since you then also have to order a charger and adapter?\n[0.03153361] I was thinking on getting an iphone. But if I did I literally wouldn't be able to charge it. I don't have any USB C port. The only ones I have is for my android phones but that's USB A to C.\n\nDo compared to last year I would need to pay 100 dollars more AND a charger and headphones?\n\nThat sucks. And if you're buying the \"doing it for the envoirment\" thing you're naive as a five years old.\n[0.43773353] CoUrAgE\n[0.43773353] [deleted]\n[0.5030101] Kinda on a similar note- we finally saw the future of the port-less iPhone: MASAFE. In 3-4 years I think it would be dope when everyone has a Magsafe charger in homes, coffee shops, planes, etc.\n[0.02480394] “There are 2 billion power adapters in the world”\n\nOk fair enough. Now subtract the amount of people that bought an iPhone 11 Pro Max. That number is *the number of power adapters that won’t be compatible with the same shitty cable you’re shipping*.\n\nThey didn’t even braid the cable like the leaks said. Had they gone with a USB-A cable their point would’ve been more sound. All you’re doing now is making the hundreds of millions of people who don’t own a USB-C charging brick (I literally didn’t own one until a few days ago) buy a new one. So yeah the shipping emissions and shit won’t be on your head, it will be on Amazon’s. And worst of all they’re gonna throw away their perfectly working old power adapters, causing even more damage to the environment...\n[0.861522] Well I'm sure they'll pass the savings on to the consumer, right?\n\n... right?!\n[0.04280265] They should just make an iPhone with a battery that lasts 8 months and can't be recharged\n[0.06324869] If Apple were *really* GreenApples then they would allow customers to trade in their old USB-A's for a replacement USB-C\n[0.90911436] Bruh. They increased the price by 100$ too\n[0.50560737] There are 2 billion charging bricks out there... so here’s a cable that doesn’t fucking work with any of them\n[0.43773353] [deleted]\n[0.15804021] Honestly apple customers by this point are the dumbest people in the world.\n[0.5416553] As a Duo owner, not sure how to comment.  My phone came with a free case, but has a potato cam. 😂\n[0.26573306] Interestingly, ***all*** the iPhone models now on sale (iPhone 12, 11, Xs/Xr and SE) all come without chargers or headphones. See [the iPhone 11 page](https://www.apple.com/uk/shop/buy-iphone/iphone-11) as an example.\n\n**CLARIFICATION:** I didn't mean to say the XR, XS and 11 models *never* came with headphones & charger. I'm saying Apple has updated their current stock (which they sell as last-year and two-year-old models for lower prices) and those models now and going forward don't include headphones or chargers, but do include the USB-C to Lightning cable\n[0.19322096] \"But I don't have a USB C charging brick!\" \n\nMe: *laughs in Samsung*\n[0.99928856] Thank you apple for removing fast chargers and headphones, boy I sure love the environment.\n[0.93646604] hahahahahahaha, imagine buying a fucking phone without having a charger included. Steve Jobs is turning in his grave.\n[0.21469633] Hopefully iPhone 13 wont come with a phone at all\n[0.12114911] This is turrible news. And upsetting for me since I was banking on the cable that came with the phone. I was going to replace the one in my car. Obviously can’t now since no car maker in their right mind would standardize the USBC at this point. \n\nPlus the only USBC adapter I have is the 10w one which came with the 11 Pro. I don’t use it because I don’t want to “fast” charge. I’ve noticed personally that my battery drains quicker from a “fast” charge. \n\nThis should upset every prospective iPhone customer......meanwhile I wait online for my preorder.\n[0.4401808] That's why it's \"only\" $699; you have to spend an extra ~$60 on the charger and headphones if you need them.\n[0.4505791] So when you’re buying the power brick, buy it from any other company than apple and not in an apple store either.\n[0.43773353] [deleted]\n[0.72990996] It doesn’t really matter that the included charger is lightning to USB-C. I think many people probably have lightning to USB-A cables that are compatible with their USB-A charging adapters. iPhones have been using lightning for years and this one is no different.\n[0.75730723] iPhone SE here I stay.\n[0.23275977] Damn I was buying it just for the charger.\n[0.8357681] Imagine buying a new house fully furnished but when you walk in to use the bathroom you quickly realize the house didn’t come with toilets. Realtor tells you the reason for no toilets is “There’s plenty of toilets in the world.”\n[0.90609473] Who cares y'all still buying one , sheep\n[0.06316602] If apple really cared about e waste, they wouldn't make a new phone every year\n[0.43773353] [deleted]\n[0.09713671] If this was lighting to USB- A, this would make sense and would be smart \n\nBut this is lightning to USB-C, an adapter that many people don’t have and won’t know that they don’t have until they get this new phone. \n\nI don’t know if this is a smart move...\n[0.205431] So to save the environment, Apple has effectively quadrupled their packaging output. \n\n\nYou have to buy the phone, the charging brick, the charger/cable (doesn’t come with a brick), and the headphones. All separately. All with their own packaging. \n\nThat’s completely absurd and environmentally irresponsible. \n\nSomeone needs to call them out and more importantly, do something about it.\n\nEdit: and they made their previous charging brick obsolete, forcing people to buy the new USB-C brick\n[0.34798265] Do old lightning cords work still?  I don’t see the big deal here.  I don’t need the cord, nor the headphones, or the brick.\n[0.30129766] It’s not a defence, but remember when iPods didn’t have power adapters, maybe they are following from there.\n[0.43773353] #SoBrave\n[0.03631841] Why the fuck do you people support this garbage company\n[0.43773353] [deleted]\n[0.0415603] All older iPhone models also no longer come with power adapters or EarPods.\n[0.07596728] Here’s a $1000+ phone built for $100 on the backs of Chinese labor camps but we aren’t included accessories. We do sell them, for another couple hundred. Apple has become a disgusting company.\n[0.43773353] [deleted]\n[0.16610186] Buds? Who cares.\n\nNo warp/fast charging brick that won't brick (heh) my new phone? Not so good.\n[0.32619342] This is insane and tone-deaf.\n\nNintendo did this with the New Nintendo 3DS and people rioted in the streets. They haven't done it since because of how poorly it went.\n\nWhat do you think is gonna happen when you scale that up to iPhones?\n[0.3907038] Y'all Mac people are chumps.\n[0.7817432] I just saw the Canadian prices of all phones and they are beyond reasonable. Can’t bother enough with the charger or cable or EarPods when I can’t even come to terms with the price.\n[0.03180599] Wait I have an iPhone 6s Plus and have been waiting for the 12 to upgrade. I wouldn’t be able to use my brick?\n"
     ]
    }
   ],
   "source": [
    "for i in range(len(preds)):\n",
    "    print(preds[i],comments[i])"
   ]
  }
 ]
}